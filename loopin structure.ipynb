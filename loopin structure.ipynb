{
 "cells": [
  {
   "cell_type": "markdown",
   "id": "38fbcff9-7f3e-40b3-acb6-776bbc0e1f94",
   "metadata": {},
   "source": [
    "1- write a python programme to print the number from 1 to 10 using a for loop."
   ]
  },
  {
   "cell_type": "code",
   "execution_count": 7,
   "id": "25dc5d14-43f5-408e-ab5e-6435f56b66a3",
   "metadata": {},
   "outputs": [
    {
     "name": "stdout",
     "output_type": "stream",
     "text": [
      "1\n",
      "2\n",
      "3\n",
      "4\n",
      "5\n",
      "6\n",
      "7\n",
      "8\n",
      "9\n",
      "10\n"
     ]
    }
   ],
   "source": [
    "for i in range(1,11):\n",
    "    print (i)"
   ]
  },
  {
   "cell_type": "markdown",
   "id": "05a43204-5d86-4c46-b62f-ffde6f3d0d24",
   "metadata": {},
   "source": [
    "2- write a python programme to print the number from 20 to 1 using while loop"
   ]
  },
  {
   "cell_type": "code",
   "execution_count": 9,
   "id": "f5b0275f-8043-4fc7-8f05-be26850e92a9",
   "metadata": {},
   "outputs": [
    {
     "name": "stdout",
     "output_type": "stream",
     "text": [
      "20\n",
      "19\n",
      "18\n",
      "17\n",
      "16\n",
      "15\n",
      "14\n",
      "13\n",
      "12\n",
      "11\n",
      "10\n",
      "9\n",
      "8\n",
      "7\n",
      "6\n",
      "5\n",
      "4\n",
      "3\n",
      "2\n",
      "1\n"
     ]
    }
   ],
   "source": [
    "f=20\n",
    "while f>=1:\n",
    "    print(f)\n",
    "    f=f-1"
   ]
  },
  {
   "cell_type": "markdown",
   "id": "22cf6ee6-89e1-48ed-a2bb-36504a8f932a",
   "metadata": {},
   "source": [
    "3-write a programme to print even number from 1 to 10"
   ]
  },
  {
   "cell_type": "code",
   "execution_count": 15,
   "id": "c0d00fb4-ceea-41d9-b14c-9cb6845e1442",
   "metadata": {},
   "outputs": [
    {
     "name": "stdout",
     "output_type": "stream",
     "text": [
      "2\n",
      "4\n",
      "6\n",
      "8\n",
      "10\n"
     ]
    }
   ],
   "source": [
    "for i in range (1 ,11):\n",
    "   \n",
    "   if i%2 ==0:\n",
    "    print(i)\n",
    "\n",
    "\n",
    "    "
   ]
  },
  {
   "cell_type": "code",
   "execution_count": 9,
   "id": "d8518aff-dade-41f8-9d90-ae46876f7f7d",
   "metadata": {},
   "outputs": [
    {
     "name": "stdout",
     "output_type": "stream",
     "text": [
      "10\n",
      "8\n",
      "6\n",
      "4\n",
      "2\n"
     ]
    }
   ],
   "source": [
    "i=11\n",
    "while i >=1:\n",
    "    if i%2==0:\n",
    "        print(i)\n",
    "    i-=1"
   ]
  },
  {
   "cell_type": "code",
   "execution_count": 6,
   "id": "a0d1430a-c316-4fdb-8d60-8595cb16b98f",
   "metadata": {},
   "outputs": [
    {
     "name": "stdout",
     "output_type": "stream",
     "text": [
      "2\n",
      "4\n",
      "6\n",
      "8\n",
      "10\n"
     ]
    }
   ],
   "source": [
    "i=1\n",
    "while i<=11:\n",
    "     if i%2==0:\n",
    "        print(i)\n",
    "     i+=1 "
   ]
  },
  {
   "cell_type": "markdown",
   "id": "3d9282b9-01fc-4bb3-9de8-d8e2ad154ab6",
   "metadata": {},
   "source": [
    "4-write a programme that prompt the user to enter a number n and print all the odd numbers from 1 to n"
   ]
  },
  {
   "cell_type": "code",
   "execution_count": 12,
   "id": "283a942e-b531-4bb6-8ee1-10090d258b61",
   "metadata": {},
   "outputs": [
    {
     "name": "stdin",
     "output_type": "stream",
     "text": [
      "enter the number 12\n"
     ]
    },
    {
     "name": "stdout",
     "output_type": "stream",
     "text": [
      "your enter number is 12\n",
      "1\n",
      "3\n",
      "5\n",
      "7\n",
      "9\n",
      "11\n"
     ]
    }
   ],
   "source": [
    "a=int(input(\"enter the number\"))\n",
    "print(\"your enter number is\",a)\n",
    "for i in range(a):\n",
    "    if i%2 !=0:\n",
    "        print(i)"
   ]
  },
  {
   "cell_type": "markdown",
   "id": "c723a493-0dad-454f-83e3-cae53d644f11",
   "metadata": {},
   "source": [
    "5-write a programme that prompt the user to enter a number n and print all the numbers from 1 to n"
   ]
  },
  {
   "cell_type": "code",
   "execution_count": 15,
   "id": "9212e009-8084-44e5-abeb-61cc90667c19",
   "metadata": {},
   "outputs": [
    {
     "name": "stdin",
     "output_type": "stream",
     "text": [
      "enter the number 12\n"
     ]
    },
    {
     "name": "stdout",
     "output_type": "stream",
     "text": [
      "1\n",
      "2\n",
      "3\n",
      "4\n",
      "5\n",
      "6\n",
      "7\n",
      "8\n",
      "9\n",
      "10\n",
      "11\n",
      "12\n"
     ]
    }
   ],
   "source": [
    "a=int(input(\"enter the number\"))\n",
    "for i in range(1,a+1):\n",
    "    print(i)"
   ]
  },
  {
   "cell_type": "markdown",
   "id": "6a1da580-a0c5-4104-b88e-fafe4ad2e7c1",
   "metadata": {},
   "source": [
    "6-write a programme that print 'Happy Birthday!' five times on screen"
   ]
  },
  {
   "cell_type": "code",
   "execution_count": 25,
   "id": "67dd604f-47a7-401a-a877-0b43f0bdb87b",
   "metadata": {},
   "outputs": [
    {
     "name": "stdout",
     "output_type": "stream",
     "text": [
      "HappyBirthday\n",
      "HappyBirthday\n",
      "HappyBirthday\n",
      "HappyBirthday\n"
     ]
    }
   ],
   "source": [
    "a =\"HappyBirthday\"\n",
    "\n",
    "for i in range(1,5):\n",
    "    print(a)\n",
    "    "
   ]
  },
  {
   "cell_type": "markdown",
   "id": "d964f01b-9963-4c7f-9321-afd0b4a0aeb5",
   "metadata": {},
   "source": [
    "7-write a programme that takes a number n as input from the user and generate the first n term of the series formed by squaring the natural number .\n",
    "Sample output\n",
    "enter a number:6\n",
    "the first 6 terms of the series are \n",
    "1 4 9 16 25 36"
   ]
  },
  {
   "cell_type": "code",
   "execution_count": 15,
   "id": "57cd564e-a800-4c89-9fad-a25193261277",
   "metadata": {},
   "outputs": [
    {
     "name": "stdin",
     "output_type": "stream",
     "text": [
      "enter the number 2\n"
     ]
    },
    {
     "name": "stdout",
     "output_type": "stream",
     "text": [
      "4\n",
      "16\n",
      "256\n",
      "65536\n",
      "4294967296\n"
     ]
    }
   ],
   "source": [
    "a=int(input(\"enter the number\"))\n",
    "for i in range(1,6):\n",
    "    a=a**2\n",
    "    print(a)"
   ]
  },
  {
   "cell_type": "markdown",
   "id": "1060ca0e-be4e-43e9-8898-22564399a59f",
   "metadata": {},
   "source": [
    "8-write a programme that prompts the user to input a number and prints its multiplication table."
   ]
  },
  {
   "cell_type": "code",
   "execution_count": 31,
   "id": "a2618289-b699-459f-9f77-aaf6bda42bc8",
   "metadata": {},
   "outputs": [
    {
     "name": "stdin",
     "output_type": "stream",
     "text": [
      "enter the number 2\n"
     ]
    },
    {
     "name": "stdout",
     "output_type": "stream",
     "text": [
      "2*1=2\n",
      "2*2=4\n",
      "2*3=6\n",
      "2*4=8\n",
      "2*5=10\n",
      "2*6=12\n",
      "2*7=14\n",
      "2*8=16\n",
      "2*9=18\n",
      "2*10=20\n"
     ]
    }
   ],
   "source": [
    "a=int(input(\"enter the number\"))\n",
    "for i in range(10):\n",
    "        b=a*(i+1)\n",
    "        print(f\"{a}*{i+1}={b}\")\n"
   ]
  },
  {
   "cell_type": "markdown",
   "id": "a8eabbf1-7c55-43b3-a378-95386ed28633",
   "metadata": {},
   "source": [
    "9-write a python programme to print the first 8 terms of an arthamatic progression starting with 3 and having a common difference of 4\n",
    "the programme should output the following sequence:\n",
    "3 7 11 15 19 23 27 31."
   ]
  },
  {
   "cell_type": "code",
   "execution_count": 33,
   "id": "0cc9c46f-7954-4a2a-be43-7e5cc7869c82",
   "metadata": {},
   "outputs": [
    {
     "name": "stdout",
     "output_type": "stream",
     "text": [
      "3\n",
      "7\n",
      "11\n",
      "15\n",
      "19\n",
      "23\n",
      "27\n",
      "31\n"
     ]
    }
   ],
   "source": [
    "for i in range (3,35,4):\n",
    "    print(i)"
   ]
  },
  {
   "cell_type": "markdown",
   "id": "8bb66ea6-b287-432a-a4a4-46c1e9899432",
   "metadata": {},
   "source": [
    "10-write a python programme to print the first 6 terms of a geomatric sequence starting with 2 and having common ratio of 3.\n",
    "the programme should output the following sequence\n",
    "2 6 18 54 162 486\n"
   ]
  },
  {
   "cell_type": "code",
   "execution_count": 43,
   "id": "a1566da9-da7f-493a-bfcc-e24a867fa736",
   "metadata": {},
   "outputs": [
    {
     "name": "stdout",
     "output_type": "stream",
     "text": [
      "6\n",
      "18\n",
      "54\n",
      "162\n",
      "486\n"
     ]
    }
   ],
   "source": [
    "a=2\n",
    "for i in range(5):\n",
    "    a=a*3\n",
    "    print(a)"
   ]
  },
  {
   "cell_type": "markdown",
   "id": "efe4b06e-d3f9-4a50-9e18-56733db4752c",
   "metadata": {},
   "source": [
    "11-write a programme that ask the user for a positive integer value the programme shoud calculate the sum of the integers from 1 upto the number extered for example if the user enter 20 the loop will find thwe sum of 1,2,3,4,,,,20"
   ]
  },
  {
   "cell_type": "code",
   "execution_count": 8,
   "id": "5aa84028-06bf-46ea-8f5b-b718acac1ba8",
   "metadata": {},
   "outputs": [
    {
     "name": "stdin",
     "output_type": "stream",
     "text": [
      "enter the number 4\n"
     ]
    },
    {
     "name": "stdout",
     "output_type": "stream",
     "text": [
      "1\n",
      "3\n",
      "6\n",
      "10\n"
     ]
    }
   ],
   "source": [
    "a=int(input(\"enter the number\"))\n",
    "p=0\n",
    "for i in range(1,a+1):\n",
    "    if i >=1:\n",
    "        p=p+i\n",
    "        i-=1\n",
    "        print(p)"
   ]
  },
  {
   "cell_type": "markdown",
   "id": "34efb6c6-3811-4455-b6f9-1258d4fcb874",
   "metadata": {},
   "source": [
    "12-write a programme that take a positive integer N as input and calculates the sum of the reciprocal of all number from 1 upto N. the programme should display the final sum .\n",
    "output of the programme should be like:\n",
    "enter a positive integer:5\n",
    "the sum of the reciprocals from 1 to 5 is:2.28"
   ]
  },
  {
   "cell_type": "code",
   "execution_count": 16,
   "id": "6a5c9891-09c5-40a0-836e-ef289052f93c",
   "metadata": {},
   "outputs": [
    {
     "name": "stdin",
     "output_type": "stream",
     "text": [
      "enter the number 5\n"
     ]
    },
    {
     "name": "stdout",
     "output_type": "stream",
     "text": [
      "the reciprocal of 5 is2.28\n"
     ]
    }
   ],
   "source": [
    "n=int(input(\"enter the number\"))\n",
    "result=0\n",
    "for i in range(1,n+1):\n",
    "    result+=1/i\n",
    "    \n",
    "print(f\"the reciprocal of {n} is{round(result,2)}\")"
   ]
  },
  {
   "cell_type": "markdown",
   "id": "eadd8203-db47-4b3a-8c39-522dfd162eb5",
   "metadata": {},
   "source": [
    "13-write a programme that prompts the user to enter  number and repeats this process 5 times the programme should accumulate the numbers entered and THEN display the final runninG total\n",
    "sample output\n",
    "ENTER A NUMBER:10\n",
    "ENTER A NUMBER:15\n",
    "ENTER A NUMBER:35\n",
    "ENTER A NUMBER:40\n",
    "ENTER A NUMBER:50\n",
    "THE FINAL RUNNING TOTAL IS:150"
   ]
  },
  {
   "cell_type": "code",
   "execution_count": 23,
   "id": "2dc2f3b7-9ea5-4afc-98f8-c127acd802eb",
   "metadata": {},
   "outputs": [
    {
     "name": "stdin",
     "output_type": "stream",
     "text": [
      "enter the number 2\n",
      "enter the number 3\n",
      "enter the number 1\n",
      "enter the number 4\n",
      "enter the number 4\n"
     ]
    },
    {
     "name": "stdout",
     "output_type": "stream",
     "text": [
      "total sum 14\n"
     ]
    }
   ],
   "source": [
    "result=0\n",
    "for i in range(5):\n",
    "    a=int(input(\"enter the number\",))\n",
    "    result+=a\n",
    "\n",
    "print(\"total sum\",result)\n",
    "    "
   ]
  },
  {
   "cell_type": "markdown",
   "id": "ae7ee06f-0b9e-4d0d-a59f-e331f1de4db1",
   "metadata": {},
   "source": [
    "14-write a programme that prompt the user to enter a positive integer and calculates its factorial the factorial of a positive integer  'n'is denoted as 'n!'.and is calculated by multiplying all the integers freom 1 to \"n{\" together for example the factorial of 5(denoted as 5!) is calculated as 1*2*3*4*5.\n",
    "the programme should display the factorial value if the input is positive number or display a message stating that factorial does not exist for negative numbers, additionaly for an input of zero, the programme should output that the factorial of 0 is 1.\n"
   ]
  },
  {
   "cell_type": "code",
   "execution_count": 34,
   "id": "ecf835e5-c1c6-4750-b2a8-dc9759737080",
   "metadata": {},
   "outputs": [
    {
     "name": "stdin",
     "output_type": "stream",
     "text": [
      "enter the number for factorial 0\n"
     ]
    },
    {
     "name": "stdout",
     "output_type": "stream",
     "text": [
      "factorial of 0 is 1\n"
     ]
    }
   ],
   "source": [
    "a=int(input(\"enter the number for factorial\"))\n",
    "if a>=1:\n",
    "    final=1\n",
    "    for i in range(1,a+1):\n",
    "        final*=i\n",
    "    print(f\"factorial of {a} is{final}\")\n",
    "elif a<0:\n",
    "    print(\"factorial not possible\")\n",
    "elif a==0:\n",
    "     print(\"factorial of 0 is 1\")\n",
    "else:\n",
    "    (\"enter the correct value\")\n",
    "    "
   ]
  },
  {
   "cell_type": "markdown",
   "id": "dcfce877-fa7e-4cc2-b297-bb37d24ce15b",
   "metadata": {},
   "source": [
    "15-WRITE A PYTHON PROGRAM THAT PROMPT THE USER TO ENTER A BASE NUMBER AND AN EXPONENT, AND THEN CALCULATE THE POWER OF THE BASE TO THE EXPONENT .THE PROGRAMME SHOULD NOT USE THE EXPONENTIAL OPERATOR(**)OR THE MATH.POW()FUNCTION.THE PROGRAMME SHOULD HANDLE BOTH POSITIVE AND NEGATIVE EXPONENTS. "
   ]
  },
  {
   "cell_type": "code",
   "execution_count": 36,
   "id": "71b42087-ac84-4671-b5a7-438e1505d983",
   "metadata": {},
   "outputs": [
    {
     "name": "stdin",
     "output_type": "stream",
     "text": [
      "enter the base number 2\n",
      "enter the exponent 3\n"
     ]
    },
    {
     "name": "stdout",
     "output_type": "stream",
     "text": [
      "power of the base8\n"
     ]
    }
   ],
   "source": [
    "a=int(input(\"enter the base number\"))\n",
    "b=int(input(\"enter the exponent\"))\n",
    "exponent=1\n",
    "for i in range(1,b+1):\n",
    "    exponent*=a\n",
    "print(F\"power of the base{exponent}\")"
   ]
  },
  {
   "cell_type": "code",
   "execution_count": null,
   "id": "c595c265-1a2b-4058-81b4-b07cc5b45f2f",
   "metadata": {},
   "outputs": [],
   "source": []
  }
 ],
 "metadata": {
  "kernelspec": {
   "display_name": "Python 3 (ipykernel)",
   "language": "python",
   "name": "python3"
  },
  "language_info": {
   "codemirror_mode": {
    "name": "ipython",
    "version": 3
   },
   "file_extension": ".py",
   "mimetype": "text/x-python",
   "name": "python",
   "nbconvert_exporter": "python",
   "pygments_lexer": "ipython3",
   "version": "3.13.5"
  }
 },
 "nbformat": 4,
 "nbformat_minor": 5
}
